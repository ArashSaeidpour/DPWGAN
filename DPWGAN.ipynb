{
 "cells": [
  {
   "cell_type": "markdown",
   "metadata": {},
   "source": [
    "# Implementation of Differentially-private GAN (DP-WGAN) on Worldline credit card transactions dataset"
   ]
  },
  {
   "cell_type": "markdown",
   "metadata": {},
   "source": [
    "Worldline has open sourced some of their data of credit card transactions to try to predict fraud:\n",
    "\n",
    "https://www.kaggle.com/mlg-ulb/creditcardfraud\n",
    "\n",
    "Although this dataset is public, it might still contain personally identifiable information which could be reverse-engineered.\n",
    "\n",
    "In this this notebook, a DP-WGAN is implemented to generate a synthetic copy of this dataset which preserves as much of the structure as possible, but obfuscates the raw observations. \n",
    "To gauge the quality of the synthetic data, a classifier is trained on it to test its performance on a held-out set of observations from the original data. "
   ]
  },
  {
   "cell_type": "code",
   "execution_count": 65,
   "metadata": {},
   "outputs": [],
   "source": [
    "%config Completer.use_jedi = False"
   ]
  },
  {
   "cell_type": "code",
   "execution_count": 254,
   "metadata": {},
   "outputs": [],
   "source": [
    "from dpwgan import DPWGAN\n",
    "import torch.nn as nn\n",
    "import torch\n",
    "import logging\n",
    "import pandas as pd\n",
    "import numpy as np\n",
    "import torch.optim as optim\n",
    "from torch.autograd import Variable\n",
    "import logging"
   ]
  },
  {
   "cell_type": "code",
   "execution_count": 255,
   "metadata": {},
   "outputs": [],
   "source": [
    "from sklearn.model_selection import train_test_split\n",
    "from sklearn.model_selection import GridSearchCV\n",
    "from sklearn.linear_model import LogisticRegression\n",
    "from sklearn.model_selection import KFold\n",
    "from sklearn.preprocessing import StandardScaler\n",
    "from sklearn.metrics import plot_confusion_matrix\n",
    "from sklearn.metrics import roc_curve\n",
    "from sklearn.metrics import RocCurveDisplay\n",
    "from sklearn.model_selection import train_test_split\n",
    "from sklearn.metrics import roc_auc_score\n",
    "from scipy.special import expit\n",
    "import collections\n",
    "import os\n",
    "import seaborn as sns\n",
    "import matplotlib.pyplot as plt"
   ]
  },
  {
   "cell_type": "markdown",
   "metadata": {},
   "source": [
    "# Loading Data"
   ]
  },
  {
   "cell_type": "code",
   "execution_count": 3,
   "metadata": {},
   "outputs": [],
   "source": [
    "df_xy = pd.read_csv('./data/creditcard.csv')"
   ]
  },
  {
   "cell_type": "code",
   "execution_count": 4,
   "metadata": {},
   "outputs": [
    {
     "data": {
      "text/html": [
       "<div>\n",
       "<style scoped>\n",
       "    .dataframe tbody tr th:only-of-type {\n",
       "        vertical-align: middle;\n",
       "    }\n",
       "\n",
       "    .dataframe tbody tr th {\n",
       "        vertical-align: top;\n",
       "    }\n",
       "\n",
       "    .dataframe thead th {\n",
       "        text-align: right;\n",
       "    }\n",
       "</style>\n",
       "<table border=\"1\" class=\"dataframe\">\n",
       "  <thead>\n",
       "    <tr style=\"text-align: right;\">\n",
       "      <th></th>\n",
       "      <th>Time</th>\n",
       "      <th>V1</th>\n",
       "      <th>V2</th>\n",
       "      <th>V3</th>\n",
       "      <th>V4</th>\n",
       "      <th>V5</th>\n",
       "      <th>V6</th>\n",
       "      <th>V7</th>\n",
       "      <th>V8</th>\n",
       "      <th>V9</th>\n",
       "      <th>...</th>\n",
       "      <th>V21</th>\n",
       "      <th>V22</th>\n",
       "      <th>V23</th>\n",
       "      <th>V24</th>\n",
       "      <th>V25</th>\n",
       "      <th>V26</th>\n",
       "      <th>V27</th>\n",
       "      <th>V28</th>\n",
       "      <th>Amount</th>\n",
       "      <th>Class</th>\n",
       "    </tr>\n",
       "  </thead>\n",
       "  <tbody>\n",
       "    <tr>\n",
       "      <th>count</th>\n",
       "      <td>284807.000000</td>\n",
       "      <td>2.848070e+05</td>\n",
       "      <td>2.848070e+05</td>\n",
       "      <td>2.848070e+05</td>\n",
       "      <td>2.848070e+05</td>\n",
       "      <td>2.848070e+05</td>\n",
       "      <td>2.848070e+05</td>\n",
       "      <td>2.848070e+05</td>\n",
       "      <td>2.848070e+05</td>\n",
       "      <td>2.848070e+05</td>\n",
       "      <td>...</td>\n",
       "      <td>2.848070e+05</td>\n",
       "      <td>2.848070e+05</td>\n",
       "      <td>2.848070e+05</td>\n",
       "      <td>2.848070e+05</td>\n",
       "      <td>2.848070e+05</td>\n",
       "      <td>2.848070e+05</td>\n",
       "      <td>2.848070e+05</td>\n",
       "      <td>2.848070e+05</td>\n",
       "      <td>284807.000000</td>\n",
       "      <td>284807.000000</td>\n",
       "    </tr>\n",
       "    <tr>\n",
       "      <th>mean</th>\n",
       "      <td>94813.859575</td>\n",
       "      <td>1.165980e-15</td>\n",
       "      <td>3.416908e-16</td>\n",
       "      <td>-1.373150e-15</td>\n",
       "      <td>2.086869e-15</td>\n",
       "      <td>9.604066e-16</td>\n",
       "      <td>1.490107e-15</td>\n",
       "      <td>-5.556467e-16</td>\n",
       "      <td>1.177556e-16</td>\n",
       "      <td>-2.406455e-15</td>\n",
       "      <td>...</td>\n",
       "      <td>1.656562e-16</td>\n",
       "      <td>-3.444850e-16</td>\n",
       "      <td>2.578648e-16</td>\n",
       "      <td>4.471968e-15</td>\n",
       "      <td>5.340915e-16</td>\n",
       "      <td>1.687098e-15</td>\n",
       "      <td>-3.666453e-16</td>\n",
       "      <td>-1.220404e-16</td>\n",
       "      <td>88.349619</td>\n",
       "      <td>0.001727</td>\n",
       "    </tr>\n",
       "    <tr>\n",
       "      <th>std</th>\n",
       "      <td>47488.145955</td>\n",
       "      <td>1.958696e+00</td>\n",
       "      <td>1.651309e+00</td>\n",
       "      <td>1.516255e+00</td>\n",
       "      <td>1.415869e+00</td>\n",
       "      <td>1.380247e+00</td>\n",
       "      <td>1.332271e+00</td>\n",
       "      <td>1.237094e+00</td>\n",
       "      <td>1.194353e+00</td>\n",
       "      <td>1.098632e+00</td>\n",
       "      <td>...</td>\n",
       "      <td>7.345240e-01</td>\n",
       "      <td>7.257016e-01</td>\n",
       "      <td>6.244603e-01</td>\n",
       "      <td>6.056471e-01</td>\n",
       "      <td>5.212781e-01</td>\n",
       "      <td>4.822270e-01</td>\n",
       "      <td>4.036325e-01</td>\n",
       "      <td>3.300833e-01</td>\n",
       "      <td>250.120109</td>\n",
       "      <td>0.041527</td>\n",
       "    </tr>\n",
       "    <tr>\n",
       "      <th>min</th>\n",
       "      <td>0.000000</td>\n",
       "      <td>-5.640751e+01</td>\n",
       "      <td>-7.271573e+01</td>\n",
       "      <td>-4.832559e+01</td>\n",
       "      <td>-5.683171e+00</td>\n",
       "      <td>-1.137433e+02</td>\n",
       "      <td>-2.616051e+01</td>\n",
       "      <td>-4.355724e+01</td>\n",
       "      <td>-7.321672e+01</td>\n",
       "      <td>-1.343407e+01</td>\n",
       "      <td>...</td>\n",
       "      <td>-3.483038e+01</td>\n",
       "      <td>-1.093314e+01</td>\n",
       "      <td>-4.480774e+01</td>\n",
       "      <td>-2.836627e+00</td>\n",
       "      <td>-1.029540e+01</td>\n",
       "      <td>-2.604551e+00</td>\n",
       "      <td>-2.256568e+01</td>\n",
       "      <td>-1.543008e+01</td>\n",
       "      <td>0.000000</td>\n",
       "      <td>0.000000</td>\n",
       "    </tr>\n",
       "    <tr>\n",
       "      <th>25%</th>\n",
       "      <td>54201.500000</td>\n",
       "      <td>-9.203734e-01</td>\n",
       "      <td>-5.985499e-01</td>\n",
       "      <td>-8.903648e-01</td>\n",
       "      <td>-8.486401e-01</td>\n",
       "      <td>-6.915971e-01</td>\n",
       "      <td>-7.682956e-01</td>\n",
       "      <td>-5.540759e-01</td>\n",
       "      <td>-2.086297e-01</td>\n",
       "      <td>-6.430976e-01</td>\n",
       "      <td>...</td>\n",
       "      <td>-2.283949e-01</td>\n",
       "      <td>-5.423504e-01</td>\n",
       "      <td>-1.618463e-01</td>\n",
       "      <td>-3.545861e-01</td>\n",
       "      <td>-3.171451e-01</td>\n",
       "      <td>-3.269839e-01</td>\n",
       "      <td>-7.083953e-02</td>\n",
       "      <td>-5.295979e-02</td>\n",
       "      <td>5.600000</td>\n",
       "      <td>0.000000</td>\n",
       "    </tr>\n",
       "    <tr>\n",
       "      <th>50%</th>\n",
       "      <td>84692.000000</td>\n",
       "      <td>1.810880e-02</td>\n",
       "      <td>6.548556e-02</td>\n",
       "      <td>1.798463e-01</td>\n",
       "      <td>-1.984653e-02</td>\n",
       "      <td>-5.433583e-02</td>\n",
       "      <td>-2.741871e-01</td>\n",
       "      <td>4.010308e-02</td>\n",
       "      <td>2.235804e-02</td>\n",
       "      <td>-5.142873e-02</td>\n",
       "      <td>...</td>\n",
       "      <td>-2.945017e-02</td>\n",
       "      <td>6.781943e-03</td>\n",
       "      <td>-1.119293e-02</td>\n",
       "      <td>4.097606e-02</td>\n",
       "      <td>1.659350e-02</td>\n",
       "      <td>-5.213911e-02</td>\n",
       "      <td>1.342146e-03</td>\n",
       "      <td>1.124383e-02</td>\n",
       "      <td>22.000000</td>\n",
       "      <td>0.000000</td>\n",
       "    </tr>\n",
       "    <tr>\n",
       "      <th>75%</th>\n",
       "      <td>139320.500000</td>\n",
       "      <td>1.315642e+00</td>\n",
       "      <td>8.037239e-01</td>\n",
       "      <td>1.027196e+00</td>\n",
       "      <td>7.433413e-01</td>\n",
       "      <td>6.119264e-01</td>\n",
       "      <td>3.985649e-01</td>\n",
       "      <td>5.704361e-01</td>\n",
       "      <td>3.273459e-01</td>\n",
       "      <td>5.971390e-01</td>\n",
       "      <td>...</td>\n",
       "      <td>1.863772e-01</td>\n",
       "      <td>5.285536e-01</td>\n",
       "      <td>1.476421e-01</td>\n",
       "      <td>4.395266e-01</td>\n",
       "      <td>3.507156e-01</td>\n",
       "      <td>2.409522e-01</td>\n",
       "      <td>9.104512e-02</td>\n",
       "      <td>7.827995e-02</td>\n",
       "      <td>77.165000</td>\n",
       "      <td>0.000000</td>\n",
       "    </tr>\n",
       "    <tr>\n",
       "      <th>max</th>\n",
       "      <td>172792.000000</td>\n",
       "      <td>2.454930e+00</td>\n",
       "      <td>2.205773e+01</td>\n",
       "      <td>9.382558e+00</td>\n",
       "      <td>1.687534e+01</td>\n",
       "      <td>3.480167e+01</td>\n",
       "      <td>7.330163e+01</td>\n",
       "      <td>1.205895e+02</td>\n",
       "      <td>2.000721e+01</td>\n",
       "      <td>1.559499e+01</td>\n",
       "      <td>...</td>\n",
       "      <td>2.720284e+01</td>\n",
       "      <td>1.050309e+01</td>\n",
       "      <td>2.252841e+01</td>\n",
       "      <td>4.584549e+00</td>\n",
       "      <td>7.519589e+00</td>\n",
       "      <td>3.517346e+00</td>\n",
       "      <td>3.161220e+01</td>\n",
       "      <td>3.384781e+01</td>\n",
       "      <td>25691.160000</td>\n",
       "      <td>1.000000</td>\n",
       "    </tr>\n",
       "  </tbody>\n",
       "</table>\n",
       "<p>8 rows × 31 columns</p>\n",
       "</div>"
      ],
      "text/plain": [
       "                Time            V1            V2            V3            V4  \\\n",
       "count  284807.000000  2.848070e+05  2.848070e+05  2.848070e+05  2.848070e+05   \n",
       "mean    94813.859575  1.165980e-15  3.416908e-16 -1.373150e-15  2.086869e-15   \n",
       "std     47488.145955  1.958696e+00  1.651309e+00  1.516255e+00  1.415869e+00   \n",
       "min         0.000000 -5.640751e+01 -7.271573e+01 -4.832559e+01 -5.683171e+00   \n",
       "25%     54201.500000 -9.203734e-01 -5.985499e-01 -8.903648e-01 -8.486401e-01   \n",
       "50%     84692.000000  1.810880e-02  6.548556e-02  1.798463e-01 -1.984653e-02   \n",
       "75%    139320.500000  1.315642e+00  8.037239e-01  1.027196e+00  7.433413e-01   \n",
       "max    172792.000000  2.454930e+00  2.205773e+01  9.382558e+00  1.687534e+01   \n",
       "\n",
       "                 V5            V6            V7            V8            V9  \\\n",
       "count  2.848070e+05  2.848070e+05  2.848070e+05  2.848070e+05  2.848070e+05   \n",
       "mean   9.604066e-16  1.490107e-15 -5.556467e-16  1.177556e-16 -2.406455e-15   \n",
       "std    1.380247e+00  1.332271e+00  1.237094e+00  1.194353e+00  1.098632e+00   \n",
       "min   -1.137433e+02 -2.616051e+01 -4.355724e+01 -7.321672e+01 -1.343407e+01   \n",
       "25%   -6.915971e-01 -7.682956e-01 -5.540759e-01 -2.086297e-01 -6.430976e-01   \n",
       "50%   -5.433583e-02 -2.741871e-01  4.010308e-02  2.235804e-02 -5.142873e-02   \n",
       "75%    6.119264e-01  3.985649e-01  5.704361e-01  3.273459e-01  5.971390e-01   \n",
       "max    3.480167e+01  7.330163e+01  1.205895e+02  2.000721e+01  1.559499e+01   \n",
       "\n",
       "       ...           V21           V22           V23           V24  \\\n",
       "count  ...  2.848070e+05  2.848070e+05  2.848070e+05  2.848070e+05   \n",
       "mean   ...  1.656562e-16 -3.444850e-16  2.578648e-16  4.471968e-15   \n",
       "std    ...  7.345240e-01  7.257016e-01  6.244603e-01  6.056471e-01   \n",
       "min    ... -3.483038e+01 -1.093314e+01 -4.480774e+01 -2.836627e+00   \n",
       "25%    ... -2.283949e-01 -5.423504e-01 -1.618463e-01 -3.545861e-01   \n",
       "50%    ... -2.945017e-02  6.781943e-03 -1.119293e-02  4.097606e-02   \n",
       "75%    ...  1.863772e-01  5.285536e-01  1.476421e-01  4.395266e-01   \n",
       "max    ...  2.720284e+01  1.050309e+01  2.252841e+01  4.584549e+00   \n",
       "\n",
       "                V25           V26           V27           V28         Amount  \\\n",
       "count  2.848070e+05  2.848070e+05  2.848070e+05  2.848070e+05  284807.000000   \n",
       "mean   5.340915e-16  1.687098e-15 -3.666453e-16 -1.220404e-16      88.349619   \n",
       "std    5.212781e-01  4.822270e-01  4.036325e-01  3.300833e-01     250.120109   \n",
       "min   -1.029540e+01 -2.604551e+00 -2.256568e+01 -1.543008e+01       0.000000   \n",
       "25%   -3.171451e-01 -3.269839e-01 -7.083953e-02 -5.295979e-02       5.600000   \n",
       "50%    1.659350e-02 -5.213911e-02  1.342146e-03  1.124383e-02      22.000000   \n",
       "75%    3.507156e-01  2.409522e-01  9.104512e-02  7.827995e-02      77.165000   \n",
       "max    7.519589e+00  3.517346e+00  3.161220e+01  3.384781e+01   25691.160000   \n",
       "\n",
       "               Class  \n",
       "count  284807.000000  \n",
       "mean        0.001727  \n",
       "std         0.041527  \n",
       "min         0.000000  \n",
       "25%         0.000000  \n",
       "50%         0.000000  \n",
       "75%         0.000000  \n",
       "max         1.000000  \n",
       "\n",
       "[8 rows x 31 columns]"
      ]
     },
     "execution_count": 4,
     "metadata": {},
     "output_type": "execute_result"
    }
   ],
   "source": [
    "df_xy.describe()"
   ]
  },
  {
   "cell_type": "markdown",
   "metadata": {},
   "source": [
    "## Checking for Null values"
   ]
  },
  {
   "cell_type": "code",
   "execution_count": 5,
   "metadata": {},
   "outputs": [
    {
     "data": {
      "text/plain": [
       "0"
      ]
     },
     "execution_count": 5,
     "metadata": {},
     "output_type": "execute_result"
    }
   ],
   "source": [
    "df_xy.isnull().sum().max()"
   ]
  },
  {
   "cell_type": "markdown",
   "metadata": {},
   "source": [
    "## Checking balance"
   ]
  },
  {
   "cell_type": "code",
   "execution_count": 6,
   "metadata": {},
   "outputs": [
    {
     "data": {
      "text/plain": [
       "<matplotlib.axes._subplots.AxesSubplot at 0x7f7afcf2eac8>"
      ]
     },
     "execution_count": 6,
     "metadata": {},
     "output_type": "execute_result"
    },
    {
     "data": {
      "image/png": "[encoded data removed]",
      "text/plain": [
       "<Figure size 432x288 with 1 Axes>"
      ]
     },
     "metadata": {
      "needs_background": "light"
     },
     "output_type": "display_data"
    }
   ],
   "source": [
    "sns.histplot(df_xy['Class'])"
   ]
  },
  {
   "cell_type": "code",
   "execution_count": 7,
   "metadata": {},
   "outputs": [
    {
     "data": {
      "text/plain": [
       "(492, 31)"
      ]
     },
     "execution_count": 7,
     "metadata": {},
     "output_type": "execute_result"
    }
   ],
   "source": [
    "df_xy[df_xy['Class']==1].shape"
   ]
  },
  {
   "cell_type": "code",
   "execution_count": 8,
   "metadata": {},
   "outputs": [
    {
     "data": {
      "text/plain": [
       "<matplotlib.axes._subplots.AxesSubplot at 0x7f7afccbff28>"
      ]
     },
     "execution_count": 8,
     "metadata": {},
     "output_type": "execute_result"
    },
    {
     "data": {
      "image/png": "[encoded data removed]",
      "text/plain": [
       "<Figure size 792x648 with 2 Axes>"
      ]
     },
     "metadata": {
      "needs_background": "light"
     },
     "output_type": "display_data"
    }
   ],
   "source": [
    "corr = df_xy.corr()\n",
    "mask = np.triu(np.ones_like(corr, dtype=bool))\n",
    "\n",
    "\n",
    "f, ax = plt.subplots(figsize=(11, 9))\n",
    "\n",
    "cmap = sns.diverging_palette(230, 20, as_cmap=True)\n",
    "sns.heatmap(corr, mask=mask, cmap=cmap, vmax=.3, center=0,\n",
    "            square=True, linewidths=.5, cbar_kws={\"shrink\": .5})"
   ]
  },
  {
   "cell_type": "code",
   "execution_count": 9,
   "metadata": {},
   "outputs": [],
   "source": [
    "df_x = df_xy.drop(['Class'],axis=1)\n",
    "df_y = df_xy['Class']\n",
    "df_x_0 = df_xy[df_xy['Class']==0].drop(['Class'],axis=1)\n",
    "#df_x_0 = df_x_0[(np.abs(stats.zscore(df_x_0.iloc[:,1:])) < 3).all(axis=1)] ## removing outliers\n",
    "df_x_1 = df_xy[df_xy['Class']==1].drop(['Class'],axis=1)"
   ]
  },
  {
   "cell_type": "markdown",
   "metadata": {},
   "source": [
    "## Defining Generator and Discriminator models:"
   ]
  },
  {
   "cell_type": "code",
   "execution_count": 58,
   "metadata": {},
   "outputs": [],
   "source": [
    "class Generator(nn.Module):\n",
    "    def __init__(self,noise_dim,hidden_dim,n_features):\n",
    "        super(Generator, self).__init__()\n",
    "        self.main = nn.Sequential(\n",
    "            nn.Linear(noise_dim, hidden_dim),\n",
    "            nn.ReLU(),\n",
    "            nn.Linear(hidden_dim, hidden_dim),\n",
    "            nn.ReLU(),\n",
    "            nn.Linear(hidden_dim, n_features)\n",
    "        )\n",
    "\n",
    "    def forward(self, input):\n",
    "        return self.main(input)"
   ]
  },
  {
   "cell_type": "code",
   "execution_count": 59,
   "metadata": {},
   "outputs": [],
   "source": [
    "class Discriminator(nn.Module):\n",
    "    def __init__(self,hidden_dim,n_features):\n",
    "        super(Discriminator, self).__init__()\n",
    "        self.main = nn.Sequential(\n",
    "            nn.Linear(n_features, hidden_dim),\n",
    "            nn.ReLU(),\n",
    "            nn.Linear(hidden_dim, 1),\n",
    "            nn.Sigmoid()\n",
    "        )\n",
    "    def forward(self, input):\n",
    "        return self.main(input)"
   ]
  },
  {
   "cell_type": "code",
   "execution_count": 57,
   "metadata": {},
   "outputs": [],
   "source": [
    "def init_weights(m):\n",
    "    if type(m) == nn.Linear:\n",
    "        nn.init.xavier_uniform_(m.weight)\n",
    "        m.bias.data.fill_(0.01)"
   ]
  },
  {
   "cell_type": "markdown",
   "metadata": {},
   "source": [
    "## DPWGAN\n",
    "The differentially private Wasserstein GAN (DPWGAN) implementation is taken from [https://github.com/civisanalytics/dpwgan](https://github.com/civisanalytics/dpwgan) (with a minor revision) and is based on [this paper](https://arxiv.org/abs/1802.06739). Given the siginicant imbalance between the two classes, a separate unconditional GAN is trained for each class. Alternatively, stratified samling could be used to train a single conditional GAN to generate data from both classes."
   ]
  },
  {
   "cell_type": "code",
   "execution_count": 63,
   "metadata": {},
   "outputs": [],
   "source": [
    "class DPWGAN_enhanced(object):\n",
    "    def __init__(self, noise_function,noise_dim,hidden_dim,n_features,device=device):\n",
    "        self.generator = Generator(noise_dim,hidden_dim,n_features).to(device)\n",
    "        self.discriminator = Discriminator(hidden_dim,n_features).to(device)\n",
    "        self.noise_function = noise_function\n",
    "        \n",
    "        self.generator.apply(init_weights)\n",
    "        self.discriminator.apply(init_weights)\n",
    "\n",
    "    def train(self, data, epochs=100, n_critics=5, batch_size=128,\n",
    "              learning_rate=1e-4, sigma=None, weight_clip=0.1):\n",
    "        \"\"\"Train the model\n",
    "        Parameters\n",
    "        ----------\n",
    "        data : torch.Tensor\n",
    "            Data for training\n",
    "        epochs : int\n",
    "            Number of iterations over the full data set for training\n",
    "        n_critics : int\n",
    "            Number of discriminator training iterations\n",
    "        batch_size : int\n",
    "            Number of training examples per inner iteration\n",
    "        learning_rate : float\n",
    "            Learning rate for training\n",
    "        sigma : float or None\n",
    "            Amount of noise to add (for differential privacy)\n",
    "        weight_clip : float\n",
    "            Maximum range of weights (for differential privacy)\n",
    "        \"\"\"\n",
    "        generator_solver = optim.RMSprop(\n",
    "            self.generator.parameters(), lr=learning_rate\n",
    "        )\n",
    "        discriminator_solver = optim.RMSprop(\n",
    "            self.discriminator.parameters(), lr=learning_rate\n",
    "        )\n",
    "\n",
    "        # add hooks to introduce noise to gradient for differential privacy\n",
    "        if sigma is not None:\n",
    "            for parameter in self.discriminator.parameters():\n",
    "                parameter.register_hook(\n",
    "                    lambda grad: grad + (1 / batch_size) * sigma\n",
    "                    * torch.randn(parameter.shape,device=device)\n",
    "                )\n",
    "\n",
    "        # There is a batch for each critic (discriminator training iteration),\n",
    "        # so each epoch is epoch_length iterations, and the total number of\n",
    "        # iterations is the number of epochs times the length of each epoch.\n",
    "        epoch_length = len(data) / (n_critics * batch_size)\n",
    "        n_iters = int(epochs * epoch_length)\n",
    "        for iteration in range(n_iters):\n",
    "            for _ in range(n_critics):\n",
    "                # Sample real data\n",
    "                rand_perm = torch.randperm(data.size(0)).to(device)\n",
    "                samples = data[rand_perm[:batch_size]]\n",
    "                real_sample = Variable(samples)\n",
    "\n",
    "                # Sample fake data\n",
    "                fake_sample = self.generate(batch_size)\n",
    "\n",
    "                # Score data\n",
    "                discriminator_real = self.discriminator(real_sample)\n",
    "                discriminator_fake = self.discriminator(fake_sample)\n",
    "\n",
    "                # Calculate discriminator loss\n",
    "                # Discriminator wants to assign a high score to real data\n",
    "                # and a low score to fake data\n",
    "                discriminator_loss = -(\n",
    "                    torch.mean(discriminator_real) -\n",
    "                    torch.mean(discriminator_fake)\n",
    "                )\n",
    "\n",
    "                discriminator_loss.backward()\n",
    "                discriminator_solver.step()\n",
    "\n",
    "                # Weight clipping for privacy guarantee\n",
    "                for param in self.discriminator.parameters():\n",
    "                    param.data.clamp_(-weight_clip, weight_clip)\n",
    "\n",
    "                # Reset gradient\n",
    "                self.generator.zero_grad()\n",
    "                self.discriminator.zero_grad()\n",
    "\n",
    "            # Sample and score fake data\n",
    "            fake_sample = self.generate(batch_size)\n",
    "            discriminator_fake = self.discriminator(fake_sample)\n",
    "\n",
    "            # Calculate generator loss\n",
    "            # Generator wants discriminator to assign a high score to fake data\n",
    "            generator_loss = -torch.mean(discriminator_fake)\n",
    "\n",
    "            generator_loss.backward()\n",
    "            generator_solver.step()\n",
    "\n",
    "            # Reset gradient\n",
    "            self.generator.zero_grad()\n",
    "            self.discriminator.zero_grad()\n",
    "\n",
    "            # Print training losses\n",
    "            #if int(iteration % epoch_length) == 0:\n",
    "            if iteration%100 == 0:\n",
    "                epoch = int(iteration / epoch_length)\n",
    "                _logger.info('Epoch {}\\n'\n",
    "                             'Discriminator loss: {}; '\n",
    "                             'Generator loss: {}'\n",
    "                             .format(epoch,\n",
    "                                     discriminator_loss.data.cpu().numpy(),\n",
    "                                     generator_loss.data.cpu().numpy()))\n",
    "    def generate(self, n):\n",
    "        \"\"\"Generate a synthetic data set using the trained model\n",
    "        Parameters\n",
    "        ----------\n",
    "        n : int\n",
    "            Number of data points to generate\n",
    "        Returns\n",
    "        -------\n",
    "        torch.Tensor\n",
    "        \"\"\"\n",
    "        noise = self.noise_function(n)\n",
    "        fake_sample = self.generator(noise)\n",
    "        return fake_sample        "
   ]
  },
  {
   "cell_type": "markdown",
   "metadata": {},
   "source": [
    "## Normalizing the data"
   ]
  },
  {
   "cell_type": "code",
   "execution_count": 134,
   "metadata": {},
   "outputs": [],
   "source": [
    "std_scaler = StandardScaler()\n",
    "X_std = std_scaler.fit_transform(df_x)"
   ]
  },
  {
   "cell_type": "markdown",
   "metadata": {},
   "source": [
    "### Retain 20% of the original dataset as test data for classifier trained on the synthetic data"
   ]
  },
  {
   "cell_type": "code",
   "execution_count": 135,
   "metadata": {},
   "outputs": [],
   "source": [
    "X_train, X_test_orig, y_train, y_test_orig = train_test_split(X_std,df_xy['Class'] , test_size=0.2, random_state=10)"
   ]
  },
  {
   "cell_type": "code",
   "execution_count": 136,
   "metadata": {},
   "outputs": [],
   "source": [
    "X_train_fraud = X_train[y_train==1,:]\n",
    "X_train_non_fraud = X_train[y_train==0,:]"
   ]
  },
  {
   "cell_type": "code",
   "execution_count": 137,
   "metadata": {},
   "outputs": [],
   "source": [
    "ngpu = 1\n",
    "device = torch.device(\"cuda:0\" if (torch.cuda.is_available() and ngpu > 0) else \"cpu\")"
   ]
  },
  {
   "cell_type": "code",
   "execution_count": 138,
   "metadata": {},
   "outputs": [],
   "source": [
    "noise_dim = 16\n",
    "hidden_dim = 32\n",
    "n_features = 30"
   ]
  },
  {
   "cell_type": "code",
   "execution_count": 139,
   "metadata": {},
   "outputs": [],
   "source": [
    "def noise_function(n,noise_dim=noise_dim,device=device):\n",
    "    return torch.randn(n, noise_dim,device=device)"
   ]
  },
  {
   "cell_type": "markdown",
   "metadata": {},
   "source": [
    "## Fine tuning the parameters to ensure that both GANs are ($\\epsilon$,$\\delta$)-differentially priavet:\n",
    "The value of $\\delta$ is fixed at 1e-5. To train the GAN under different levels of differential privacy, 3 different values of privacy constraint, $\\epsilon$, is considered (0.1,1,2) and for each value the corresponding *number of epochs* and *noise multiplier* is calculated for each of the two GANs to ensure that both have same level of differential privacy"
   ]
  },
  {
   "cell_type": "code",
   "execution_count": 151,
   "metadata": {},
   "outputs": [],
   "source": [
    "from tensorflow_privacy.privacy.analysis.compute_dp_sgd_privacy_lib import compute_dp_sgd_privacy"
   ]
  },
  {
   "cell_type": "code",
   "execution_count": null,
   "metadata": {},
   "outputs": [],
   "source": [
    "df_epsilon = pd.DataFrame(columns=['sigma','epochs','n_samples','epsilon'])\n",
    "SIGMA = 10\n",
    "batch_size_fraud = 16\n",
    "sigma_epsilon_fraud_dic = {}\n",
    "i = 0\n",
    "batch_size = batch_size_fraud\n",
    "for n_samples in [X_train_fraud.shape[0],X_train_non_fraud.shape[0]]:\n",
    "    if n_samples == X_train_non_fraud.shape[0]:\n",
    "                batch_size = 1024\n",
    "    print(batch_size)\n",
    "    for epochs in np.unique(np.logspace(1, 5, num=50).astype('int')):\n",
    "        for sigma in np.logspace(-1, 2, num=30):\n",
    "            if n_samples == X_train_non_fraud.shape[0]:\n",
    "                batch_size = 1024\n",
    "            epsilon,_ = compute_dp_sgd_privacy(n = n_samples,\n",
    "                                   batch_size = batch_size,\n",
    "                                   noise_multiplier = sigma,\n",
    "                                   epochs = epochs,\n",
    "                                   delta = 1e-5)\n",
    "            sigma_epsilon_fraud_dic[sigma] = epsilon\n",
    "            df_epsilon.loc[i] = sigma,epochs,n_samples,epsilon\n",
    "            i+=1"
   ]
  },
  {
   "cell_type": "code",
   "execution_count": 240,
   "metadata": {},
   "outputs": [
    {
     "data": {
      "text/html": [
       "<div>\n",
       "<style scoped>\n",
       "    .dataframe tbody tr th:only-of-type {\n",
       "        vertical-align: middle;\n",
       "    }\n",
       "\n",
       "    .dataframe tbody tr th {\n",
       "        vertical-align: top;\n",
       "    }\n",
       "\n",
       "    .dataframe thead th {\n",
       "        text-align: right;\n",
       "    }\n",
       "</style>\n",
       "<table border=\"1\" class=\"dataframe\">\n",
       "  <thead>\n",
       "    <tr style=\"text-align: right;\">\n",
       "      <th></th>\n",
       "      <th>sigma</th>\n",
       "      <th>epochs</th>\n",
       "      <th>n_samples</th>\n",
       "      <th>epsilon</th>\n",
       "    </tr>\n",
       "  </thead>\n",
       "  <tbody>\n",
       "    <tr>\n",
       "      <th>86</th>\n",
       "      <td>48.939009</td>\n",
       "      <td>14.0</td>\n",
       "      <td>398.0</td>\n",
       "      <td>0.049763</td>\n",
       "    </tr>\n",
       "    <tr>\n",
       "      <th>238</th>\n",
       "      <td>78.804628</td>\n",
       "      <td>37.0</td>\n",
       "      <td>398.0</td>\n",
       "      <td>0.050219</td>\n",
       "    </tr>\n",
       "    <tr>\n",
       "      <th>1551</th>\n",
       "      <td>14.873521</td>\n",
       "      <td>12.0</td>\n",
       "      <td>227447.0</td>\n",
       "      <td>0.050989</td>\n",
       "    </tr>\n",
       "    <tr>\n",
       "      <th>1703</th>\n",
       "      <td>23.950266</td>\n",
       "      <td>30.0</td>\n",
       "      <td>227447.0</td>\n",
       "      <td>0.049717</td>\n",
       "    </tr>\n",
       "    <tr>\n",
       "      <th>1855</th>\n",
       "      <td>38.566204</td>\n",
       "      <td>79.0</td>\n",
       "      <td>227447.0</td>\n",
       "      <td>0.050133</td>\n",
       "    </tr>\n",
       "    <tr>\n",
       "      <th>2007</th>\n",
       "      <td>62.101694</td>\n",
       "      <td>202.0</td>\n",
       "      <td>227447.0</td>\n",
       "      <td>0.049686</td>\n",
       "    </tr>\n",
       "    <tr>\n",
       "      <th>2159</th>\n",
       "      <td>100.000000</td>\n",
       "      <td>517.0</td>\n",
       "      <td>227447.0</td>\n",
       "      <td>0.049288</td>\n",
       "    </tr>\n",
       "  </tbody>\n",
       "</table>\n",
       "</div>"
      ],
      "text/plain": [
       "           sigma  epochs  n_samples   epsilon\n",
       "86     48.939009    14.0      398.0  0.049763\n",
       "238    78.804628    37.0      398.0  0.050219\n",
       "1551   14.873521    12.0   227447.0  0.050989\n",
       "1703   23.950266    30.0   227447.0  0.049717\n",
       "1855   38.566204    79.0   227447.0  0.050133\n",
       "2007   62.101694   202.0   227447.0  0.049686\n",
       "2159  100.000000   517.0   227447.0  0.049288"
      ]
     },
     "execution_count": 240,
     "metadata": {},
     "output_type": "execute_result"
    }
   ],
   "source": [
    "df_epsilon[(df_epsilon['epsilon']>0.049) & (df_epsilon['epsilon']<0.051)]"
   ]
  },
  {
   "cell_type": "code",
   "execution_count": 227,
   "metadata": {},
   "outputs": [],
   "source": [
    "epochs_sigma_fraud = [(21,30.0),(30,4.5),(65,3.5)]  ## (n_epochs,sigma) for each level of \\epsilon\n",
    "epochs_sigma_non_fraud = [(17,9.2),(54,2.2),(65,1.37)] ## (n_epochs,sigma) for each level of \\epsilon\n",
    "dic_gans_fraud = {}\n",
    "dic_gans_non_fraud = {}"
   ]
  },
  {
   "cell_type": "markdown",
   "metadata": {},
   "source": [
    "## Training GANs "
   ]
  },
  {
   "cell_type": "code",
   "execution_count": 228,
   "metadata": {},
   "outputs": [
    {
     "name": "stdout",
     "output_type": "stream",
     "text": [
      "0\n",
      "1\n",
      "2\n"
     ]
    }
   ],
   "source": [
    "X_train_fraud_ = torch.tensor(X_train_fraud).float().to(device)\n",
    "X_train_non_fraud_ = torch.tensor(X_train_non_fraud).float().to(device)\n",
    "batch_size_fraud = 16\n",
    "batch_size_non_fraud = 1024\n",
    "for i,epsilon in enumerate([0.1,1,2]):\n",
    "    print(i)\n",
    "    epochs_fraud,sigma_fraud = epochs_sigma_fraud[i]\n",
    "    gan_fraud = DPWGAN_enhanced(noise_function,noise_dim=noise_dim,hidden_dim=hidden_dim,n_features=n_features)\n",
    "    gan_fraud.train(X_train_fraud_,epochs=epochs_fraud,\n",
    "                    n_critics=5, \n",
    "                    batch_size=batch_size_fraud,\n",
    "                    learning_rate=1e-4, \n",
    "                    sigma=sigma_fraud, \n",
    "                    weight_clip=1/hidden_dim)\n",
    "    dic_gans_fraud[epsilon] = gan_fraud\n",
    "    epochs_non_fraud,sigma_non_fraud = epochs_sigma_non_fraud[i]\n",
    "    gan_non_fraud = DPWGAN_enhanced(noise_function,noise_dim=noise_dim,hidden_dim=hidden_dim,n_features=n_features)\n",
    "    gan_non_fraud.train(X_train_non_fraud_,epochs=epochs_non_fraud,\n",
    "                    n_critics=5, \n",
    "                    batch_size=batch_size_non_fraud,\n",
    "                    learning_rate=1e-4, \n",
    "                    sigma=sigma_non_fraud, \n",
    "                    weight_clip=1/hidden_dim)\n",
    "    dic_gans_non_fraud[epsilon] = gan_non_fraud\n",
    "    \n",
    "    \n",
    "    "
   ]
  },
  {
   "cell_type": "markdown",
   "metadata": {},
   "source": [
    "## Fitting a Logistic Regression Classifier on synthetic data\n",
    "The trained GANs are used to generate synthetic fraud and non-fraud data for each level of $\\epsilon$. A logistic regression classifier is fitted on the generated data and AUROC is calculated using the held-out data from the original dataset."
   ]
  },
  {
   "cell_type": "code",
   "execution_count": null,
   "metadata": {},
   "outputs": [],
   "source": [
    "lr_parameters = {'C':np.logspace(-4, 4, num=500)}\n",
    "AUROC = {}\n",
    "dic_classifiers = {}\n",
    "for i,epsilon in enumerate([0.1,1,2]):\n",
    "    print(i)\n",
    "    gan_fraud = dic_gans_fraud[epsilon]\n",
    "    syn_data_fraud = gan_fraud.generate(5000).cpu().detach().numpy()\n",
    "    \n",
    "    gan_non_fraud = dic_gans_non_fraud[epsilon]\n",
    "    syn_data_non_fraud = gan_non_fraud.generate(5000).cpu().detach().numpy()\n",
    "    \n",
    "    x_syn = np.concatenate((syn_data_non_fraud,syn_data_fraud))\n",
    "    y_syn = np.zeros((x_syn.shape[0],1))\n",
    "    y_syn[5000:] = 1\n",
    "    \n",
    "    lr = LogisticRegression(random_state=0,max_iter=1000)\n",
    "    kf = KFold(n_splits=10,shuffle=True)\n",
    "    clf = GridSearchCV(lr, parameters,cv=kf,verbose=1,n_jobs=12)\n",
    "    clf.fit(X_train_syn,y_train_syn)\n",
    "    \n",
    "    clf_best_lr = clf.best_estimator_\n",
    "    dic_classifiers[epsilon] = clf_best_lr \n",
    "    \n",
    "    AUROC[epsilon] = roc_auc_score(y_test_orig,clf_best_lr.predict_proba(X_test_orig)[:,1])"
   ]
  },
  {
   "cell_type": "code",
   "execution_count": 41,
   "metadata": {},
   "outputs": [],
   "source": [
    "from sklearn.metrics import plot_roc_curve"
   ]
  },
  {
   "cell_type": "code",
   "execution_count": 43,
   "metadata": {},
   "outputs": [
    {
     "data": {
      "text/plain": [
       "<sklearn.metrics._plot.confusion_matrix.ConfusionMatrixDisplay at 0x7f7bc5661cf8>"
      ]
     },
     "execution_count": 43,
     "metadata": {},
     "output_type": "execute_result"
    },
    {
     "data": {
      "image/png": "[encoded data removed]",
      "text/plain": [
       "<Figure size 432x288 with 2 Axes>"
      ]
     },
     "metadata": {
      "needs_background": "light"
     },
     "output_type": "display_data"
    }
   ],
   "source": [
    "plot_confusion_matrix(clf, X_test_orig, y_test_orig)  "
   ]
  },
  {
   "cell_type": "code",
   "execution_count": null,
   "metadata": {},
   "outputs": [],
   "source": []
  }
 ],
 "metadata": {
  "kernelspec": {
   "display_name": "Python [conda env:MLenv_tf2]",
   "language": "python",
   "name": "conda-env-MLenv_tf2-py"
  },
  "language_info": {
   "codemirror_mode": {
    "name": "ipython",
    "version": 3
   },
   "file_extension": ".py",
   "mimetype": "text/x-python",
   "name": "python",
   "nbconvert_exporter": "python",
   "pygments_lexer": "ipython3",
   "version": "3.6.12"
  }
 },
 "nbformat": 4,
 "nbformat_minor": 4
}
